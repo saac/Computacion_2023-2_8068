{
 "cells": [
  {
   "cell_type": "markdown",
   "metadata": {},
   "source": [
    "# Introducción a las herramientas del cómputo científico.\n",
    "\n",
    "#### Sergio A. Alcalá Corona \n",
    "Daniel Rojo Mata\n",
    "\n",
    "---\n",
    "---"
   ]
  },
  {
   "cell_type": "markdown",
   "metadata": {},
   "source": [
    "## Práctica 1.  SISTEMA OPERATIVO LINUX\n",
    "\n",
    "### Manejo e información de directorios y archivos\n",
    "\n",
    "INSTRUCCIONES:\n",
    "\n",
    "Esta práctica es para que empiezes a familiarizarte con algunos de los comandos de Bash y su sintaxis además de que aprendas a utilizar los cuadernos (notebook) de Jupyter.\n",
    "\n",
    "Tendrás que abrir tu Jupyterlab y en un cuaderno de Bash donde realizarás lo siguiente. Si tienes que colocar una respuesta hazlo en una celda 'Markdown' y no de código.\n",
    "\n",
    "TRATA DE USAR EL MENOR NUMERO DE COMANDOS POSIBLES."
   ]
  },
  {
   "cell_type": "markdown",
   "metadata": {},
   "source": []
  },
  {
   "cell_type": "markdown",
   "metadata": {},
   "source": [
    "\n",
    "\n",
    "\n"
   ]
  },
  {
   "cell_type": "code",
   "execution_count": null,
   "metadata": {},
   "outputs": [],
   "source": []
  },
  {
   "cell_type": "code",
   "execution_count": null,
   "metadata": {},
   "outputs": [],
   "source": []
  },
  {
   "cell_type": "markdown",
   "metadata": {},
   "source": [
    "#### EJERCICIOS:\n",
    "\n",
    "<br>\n",
    "\n",
    "\n",
    "1. $\\;$\n",
    "\n",
    "  1. Crea un directorio llamado ApellidoPaterno (tu primer apellido sin espacios, acentos o carácteres especiales como la ñ, por ejemplo **Alcala/**).\n",
    "\n",
    "  2. Dentro de este directorio crearás otro directorio con tu segundo apellido (respetando la regla de no llevar acentos, ni carácteres especiales. e.g **ApellidoMaterno/**). \n",
    "  \n",
    "  3. A su vez dentro de este último directorio, crea uno (o más) con tu(s) nombres(s) (**Sergio/, Anronio/**)."
   ]
  },
  {
   "cell_type": "code",
   "execution_count": null,
   "metadata": {},
   "outputs": [],
   "source": []
  },
  {
   "cell_type": "code",
   "execution_count": null,
   "metadata": {},
   "outputs": [],
   "source": [
    "\n"
   ]
  },
  {
   "cell_type": "markdown",
   "metadata": {},
   "source": [
    "2. Después dentro de cada directorio vas a crear un archivo con el comando *touch*. El nombre del archivo, es a tu elección sin embargo uno de ellos debe de comenzar con un punto '.' **¿Que pása si ejecutas *cd ~*?**"
   ]
  },
  {
   "cell_type": "code",
   "execution_count": null,
   "metadata": {},
   "outputs": [],
   "source": []
  },
  {
   "cell_type": "markdown",
   "metadata": {},
   "source": [
    "3. \n",
    "  1. Dentro de la carpeta PrimerNombre ejecuta el comando *ls -R*.\n",
    "  2. ¿Qué sucedió con el archivo que nombraste con un punto'.' inicial?\n",
    "  3. ¿Que opción deberías usar para ver el archivo que nombraste con '.' inicial?\n"
   ]
  },
  {
   "cell_type": "code",
   "execution_count": null,
   "metadata": {},
   "outputs": [],
   "source": []
  },
  {
   "cell_type": "code",
   "execution_count": null,
   "metadata": {},
   "outputs": [],
   "source": []
  },
  {
   "cell_type": "markdown",
   "metadata": {},
   "source": [
    "4. En el directorio ApellidoPaterno, crea la siguiente estructura de directorios \n",
    "\n",
    "<img src=\"archivos.png\" alt=\"Estructura de directorios\" />"
   ]
  },
  {
   "cell_type": "code",
   "execution_count": null,
   "metadata": {},
   "outputs": [],
   "source": []
  },
  {
   "cell_type": "code",
   "execution_count": null,
   "metadata": {},
   "outputs": [],
   "source": []
  },
  {
   "cell_type": "markdown",
   "metadata": {},
   "source": [
    "5. Dentro de del directorio reinstalacion/ (del inciso anterior) crea los siguientes archivos:  guia, notas, secuencia.data, paquetes.pkg e imagen.iso"
   ]
  },
  {
   "cell_type": "code",
   "execution_count": null,
   "metadata": {},
   "outputs": [],
   "source": []
  },
  {
   "cell_type": "code",
   "execution_count": null,
   "metadata": {},
   "outputs": [],
   "source": []
  },
  {
   "cell_type": "markdown",
   "metadata": {},
   "source": [
    "6. Copia al directorio programas la totalidad de los archivos y directorios contenidos en el directorio /bin del sistema. "
   ]
  },
  {
   "cell_type": "code",
   "execution_count": null,
   "metadata": {},
   "outputs": [],
   "source": []
  },
  {
   "cell_type": "code",
   "execution_count": null,
   "metadata": {},
   "outputs": [],
   "source": []
  },
  {
   "cell_type": "markdown",
   "metadata": {},
   "source": [
    "7. Copia al directorio configuracion/X11 todos los archivos y directorios contenidos en el directorio /etc/X11/"
   ]
  },
  {
   "cell_type": "code",
   "execution_count": null,
   "metadata": {},
   "outputs": [],
   "source": []
  },
  {
   "cell_type": "code",
   "execution_count": null,
   "metadata": {},
   "outputs": [],
   "source": []
  },
  {
   "cell_type": "markdown",
   "metadata": {},
   "source": [
    "8. Crea con un solo comando un archivo llamado `hola.txt` con el contenido \"Hola\"."
   ]
  },
  {
   "cell_type": "code",
   "execution_count": null,
   "metadata": {},
   "outputs": [],
   "source": []
  },
  {
   "cell_type": "code",
   "execution_count": null,
   "metadata": {},
   "outputs": [],
   "source": []
  },
  {
   "cell_type": "markdown",
   "metadata": {},
   "source": [
    "9. Crea un archivo llamado `hola2.txt` que contenga el contenido de `hola.txt` y la frase \"de nuevo\"."
   ]
  },
  {
   "cell_type": "code",
   "execution_count": null,
   "metadata": {},
   "outputs": [],
   "source": []
  },
  {
   "cell_type": "code",
   "execution_count": null,
   "metadata": {},
   "outputs": [],
   "source": []
  },
  {
   "cell_type": "markdown",
   "metadata": {},
   "source": [
    "10. Crea un archivo llamado `PEGADO.txt` que contenga las primeras 37 lineas del archivo `.bashrc` y las ultimas 23 lineas del archivo `.bash_history`."
   ]
  },
  {
   "cell_type": "code",
   "execution_count": null,
   "metadata": {},
   "outputs": [],
   "source": []
  },
  {
   "cell_type": "code",
   "execution_count": null,
   "metadata": {},
   "outputs": [],
   "source": []
  },
  {
   "cell_type": "code",
   "execution_count": null,
   "metadata": {},
   "outputs": [],
   "source": []
  },
  {
   "cell_type": "code",
   "execution_count": null,
   "metadata": {},
   "outputs": [],
   "source": []
  }
 ],
 "metadata": {
  "kernelspec": {
   "display_name": "Bash",
   "language": "bash",
   "name": "bash"
  },
  "language_info": {
   "codemirror_mode": "shell",
   "file_extension": ".sh",
   "mimetype": "text/x-sh",
   "name": "bash"
  }
 },
 "nbformat": 4,
 "nbformat_minor": 4
}
