{
 "cells": [
  {
   "cell_type": "markdown",
   "id": "af6ccc08",
   "metadata": {},
   "source": [
    "## Practica 3.\n",
    "### Sergio Alcalá"
   ]
  },
  {
   "cell_type": "code",
   "execution_count": null,
   "id": "95a1e9e3",
   "metadata": {},
   "outputs": [],
   "source": []
  },
  {
   "cell_type": "code",
   "execution_count": null,
   "id": "9d160deb",
   "metadata": {},
   "outputs": [],
   "source": []
  },
  {
   "cell_type": "code",
   "execution_count": null,
   "id": "de2af2da",
   "metadata": {},
   "outputs": [],
   "source": []
  },
  {
   "cell_type": "code",
   "execution_count": 1,
   "id": "1247b044",
   "metadata": {},
   "outputs": [],
   "source": [
    "def Fact(n):\n",
    "    \n",
    "    result = 0\n",
    "    \n",
    "    if n == 1 or n==0:\n",
    "        result = 1\n",
    "    else:\n",
    "        result = n*Fact(n-1)\n",
    "        \n",
    "    return result"
   ]
  },
  {
   "cell_type": "code",
   "execution_count": 3,
   "id": "2ea56995",
   "metadata": {},
   "outputs": [
    {
     "data": {
      "text/plain": [
       "720"
      ]
     },
     "execution_count": 3,
     "metadata": {},
     "output_type": "execute_result"
    }
   ],
   "source": [
    "Fact(6)"
   ]
  },
  {
   "cell_type": "markdown",
   "id": "ff579b9f",
   "metadata": {},
   "source": [
    "Pregunta 4. \n",
    "\n",
    "Siguiendo la siguiente serie\n",
    "\n",
    "$ e = \\displaystyle{ \\sum^{\\infty}_{n=0} \\dfrac{1}{n!} }$\n",
    "\n",
    "Escribe un programa que calcule diferentes aproximaciones de $e$ para diferentes valores. Apóyate en tu función factorial definida en la pregunta 2."
   ]
  },
  {
   "cell_type": "code",
   "execution_count": 17,
   "id": "509a079e",
   "metadata": {},
   "outputs": [
    {
     "data": {
      "text/plain": [
       "2.7182818284590455"
      ]
     },
     "execution_count": 17,
     "metadata": {},
     "output_type": "execute_result"
    }
   ],
   "source": [
    "n=2000\n",
    "\n",
    "e = 0.0\n",
    "\n",
    "for i in range(n):\n",
    "    e = e + 1/Fact(i)\n",
    "e"
   ]
  },
  {
   "cell_type": "code",
   "execution_count": null,
   "id": "b9bb12b6",
   "metadata": {},
   "outputs": [],
   "source": []
  }
 ],
 "metadata": {
  "kernelspec": {
   "display_name": "Python 3 (ipykernel)",
   "language": "python",
   "name": "python3"
  },
  "language_info": {
   "codemirror_mode": {
    "name": "ipython",
    "version": 3
   },
   "file_extension": ".py",
   "mimetype": "text/x-python",
   "name": "python",
   "nbconvert_exporter": "python",
   "pygments_lexer": "ipython3",
   "version": "3.10.6"
  }
 },
 "nbformat": 4,
 "nbformat_minor": 5
}
