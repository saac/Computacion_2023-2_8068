{
 "cells": [
  {
   "cell_type": "markdown",
   "id": "af6ccc08",
   "metadata": {},
   "source": [
    "## Practica 4.\n",
    "### Sergio Alcalá"
   ]
  },
  {
   "cell_type": "markdown",
   "id": "15dedaff",
   "metadata": {},
   "source": [
    "1. Escribe un programa que calcule el producto cruz de dos vectores en $\\mathbb{R}³$, el usuario debe insertar las entradas de los vectores."
   ]
  },
  {
   "cell_type": "code",
   "execution_count": 15,
   "id": "9d160deb",
   "metadata": {},
   "outputs": [],
   "source": []
  },
  {
   "cell_type": "code",
   "execution_count": 8,
   "id": "de2af2da",
   "metadata": {},
   "outputs": [
    {
     "data": {
      "text/plain": [
       "[]"
      ]
     },
     "execution_count": 8,
     "metadata": {},
     "output_type": "execute_result"
    }
   ],
   "source": [
    "# vectores.readlines()"
   ]
  },
  {
   "cell_type": "code",
   "execution_count": 11,
   "id": "1247b044",
   "metadata": {},
   "outputs": [
    {
     "name": "stdout",
     "output_type": "stream",
     "text": [
      "1,2,3\n",
      "\n",
      "50,34,56\n",
      "\n"
     ]
    }
   ],
   "source": [
    "for linea in vectores.readlines():\n",
    "    print(linea)"
   ]
  },
  {
   "cell_type": "code",
   "execution_count": 73,
   "id": "6b690f12",
   "metadata": {},
   "outputs": [],
   "source": [
    "vectores = open(\"vectores.dat\", \"r\") \n",
    "M = []\n",
    "\n",
    "for linea in vectores:    \n",
    "    M.append(linea)"
   ]
  },
  {
   "cell_type": "code",
   "execution_count": 74,
   "id": "709ad69d",
   "metadata": {},
   "outputs": [
    {
     "data": {
      "text/plain": [
       "['1,2,3\\n', '50,34,56\\n']"
      ]
     },
     "execution_count": 74,
     "metadata": {},
     "output_type": "execute_result"
    }
   ],
   "source": [
    "M"
   ]
  },
  {
   "cell_type": "code",
   "execution_count": 79,
   "id": "3912694c",
   "metadata": {},
   "outputs": [
    {
     "data": {
      "text/plain": [
       "[[1.0, 2.0, 3.0], [50.0, 34.0, 56.0]]"
      ]
     },
     "execution_count": 79,
     "metadata": {},
     "output_type": "execute_result"
    }
   ],
   "source": [
    "M2 = []\n",
    "for i in range(len(M)):\n",
    "#     print(len(M))\n",
    "#     print(M[i])\n",
    "    tmp = M[i].strip()\n",
    "    tmp = tmp.split(',')\n",
    "    v = []\n",
    "#     print(len(tmp))\n",
    "    for j in range(len(tmp)):\n",
    "        v.append(float(tmp[j]))\n",
    "#     print(v)\n",
    "    M2.append(v)\n",
    "    \n",
    "    \n",
    "M2"
   ]
  },
  {
   "cell_type": "code",
   "execution_count": 80,
   "id": "5daab562",
   "metadata": {},
   "outputs": [
    {
     "name": "stdout",
     "output_type": "stream",
     "text": [
      "[1.0, 2.0, 3.0]\n",
      "[50.0, 34.0, 56.0]\n"
     ]
    }
   ],
   "source": [
    "for i in range(len(M2)):\n",
    "    print(M2[i])"
   ]
  },
  {
   "cell_type": "code",
   "execution_count": null,
   "id": "1d661d70",
   "metadata": {},
   "outputs": [],
   "source": []
  },
  {
   "cell_type": "code",
   "execution_count": null,
   "id": "baf0d659",
   "metadata": {},
   "outputs": [],
   "source": []
  },
  {
   "cell_type": "code",
   "execution_count": null,
   "id": "d301373f",
   "metadata": {},
   "outputs": [],
   "source": []
  },
  {
   "cell_type": "code",
   "execution_count": 48,
   "id": "c18cec8b",
   "metadata": {},
   "outputs": [
    {
     "data": {
      "text/plain": [
       "'1,2,3\\n'"
      ]
     },
     "execution_count": 48,
     "metadata": {},
     "output_type": "execute_result"
    }
   ],
   "source": [
    "palabra = '1,2,3\\n'\n",
    "palabra"
   ]
  },
  {
   "cell_type": "code",
   "execution_count": 49,
   "id": "eb2eaad8",
   "metadata": {},
   "outputs": [],
   "source": [
    "palabra = palabra.strip()"
   ]
  },
  {
   "cell_type": "code",
   "execution_count": 50,
   "id": "285d3136",
   "metadata": {},
   "outputs": [],
   "source": [
    "palabra = palabra.split(',')"
   ]
  },
  {
   "cell_type": "code",
   "execution_count": 52,
   "id": "eb8cebeb",
   "metadata": {},
   "outputs": [
    {
     "ename": "TypeError",
     "evalue": "float() argument must be a string or a real number, not 'list'",
     "output_type": "error",
     "traceback": [
      "\u001b[0;31m---------------------------------------------------------------------------\u001b[0m",
      "\u001b[0;31mTypeError\u001b[0m                                 Traceback (most recent call last)",
      "Cell \u001b[0;32mIn [52], line 1\u001b[0m\n\u001b[0;32m----> 1\u001b[0m \u001b[38;5;28;43mfloat\u001b[39;49m\u001b[43m(\u001b[49m\u001b[43mpalabra\u001b[49m\u001b[43m)\u001b[49m\n",
      "\u001b[0;31mTypeError\u001b[0m: float() argument must be a string or a real number, not 'list'"
     ]
    }
   ],
   "source": [
    "# float(palabra)"
   ]
  },
  {
   "cell_type": "code",
   "execution_count": 3,
   "id": "2ea56995",
   "metadata": {},
   "outputs": [
    {
     "data": {
      "text/plain": [
       "720"
      ]
     },
     "execution_count": 3,
     "metadata": {},
     "output_type": "execute_result"
    }
   ],
   "source": [
    "Fact(6)"
   ]
  },
  {
   "cell_type": "markdown",
   "id": "ff579b9f",
   "metadata": {},
   "source": [
    "Pregunta 4. \n",
    "\n",
    "Siguiendo la siguiente serie\n",
    "\n",
    "$ e = \\displaystyle{ \\sum^{\\infty}_{n=0} \\dfrac{1}{n!} }$\n",
    "\n",
    "Escribe un programa que calcule diferentes aproximaciones de $e$ para diferentes valores. Apóyate en tu función factorial definida en la pregunta 2."
   ]
  },
  {
   "cell_type": "code",
   "execution_count": 17,
   "id": "509a079e",
   "metadata": {},
   "outputs": [
    {
     "data": {
      "text/plain": [
       "2.7182818284590455"
      ]
     },
     "execution_count": 17,
     "metadata": {},
     "output_type": "execute_result"
    }
   ],
   "source": [
    "n=2000\n",
    "\n",
    "e = 0.0\n",
    "\n",
    "for i in range(n):\n",
    "    e = e + 1/Fact(i)\n",
    "e"
   ]
  },
  {
   "cell_type": "code",
   "execution_count": null,
   "id": "b9bb12b6",
   "metadata": {},
   "outputs": [],
   "source": []
  }
 ],
 "metadata": {
  "kernelspec": {
   "display_name": "Python 3 (ipykernel)",
   "language": "python",
   "name": "python3"
  },
  "language_info": {
   "codemirror_mode": {
    "name": "ipython",
    "version": 3
   },
   "file_extension": ".py",
   "mimetype": "text/x-python",
   "name": "python",
   "nbconvert_exporter": "python",
   "pygments_lexer": "ipython3",
   "version": "3.10.6"
  }
 },
 "nbformat": 4,
 "nbformat_minor": 5
}
