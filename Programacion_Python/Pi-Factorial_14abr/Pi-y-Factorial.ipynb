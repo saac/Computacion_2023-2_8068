{
 "cells": [
  {
   "cell_type": "code",
   "execution_count": 11,
   "id": "1a9dc29a",
   "metadata": {},
   "outputs": [],
   "source": [
    "def Fact(n):\n",
    "    \n",
    "    result = 0\n",
    "    \n",
    "    if n == 1 or n==0:\n",
    "        result = 1\n",
    "    else:\n",
    "        result = n*Fact(n-1)\n",
    "        \n",
    "    return result"
   ]
  },
  {
   "cell_type": "code",
   "execution_count": 28,
   "id": "34862240",
   "metadata": {},
   "outputs": [],
   "source": [
    "def Suma(n):\n",
    "    s = 0\n",
    "    for i in range(1,n+1):\n",
    "        s = s + i\n",
    "    return s"
   ]
  },
  {
   "cell_type": "code",
   "execution_count": 30,
   "id": "a5640110",
   "metadata": {},
   "outputs": [
    {
     "data": {
      "text/plain": [
       "55"
      ]
     },
     "execution_count": 30,
     "metadata": {},
     "output_type": "execute_result"
    }
   ],
   "source": [
    "Suma(10)"
   ]
  },
  {
   "cell_type": "markdown",
   "id": "4147572a",
   "metadata": {},
   "source": [
    "Esta es la aporximacion de $\\pi$\n",
    "\n",
    "$\\pi \\approx \\displaystyle 2 \\sum^{\\infty}_{k=0} \\dfrac{2^k k!^2}{(2k+1)!}$"
   ]
  },
  {
   "cell_type": "code",
   "execution_count": null,
   "id": "ac753e21",
   "metadata": {},
   "outputs": [],
   "source": []
  },
  {
   "cell_type": "code",
   "execution_count": 13,
   "id": "f3321237",
   "metadata": {},
   "outputs": [
    {
     "data": {
      "text/plain": [
       "3628800"
      ]
     },
     "execution_count": 13,
     "metadata": {},
     "output_type": "execute_result"
    }
   ],
   "source": [
    "Fact(10)"
   ]
  },
  {
   "cell_type": "code",
   "execution_count": 38,
   "id": "6d6284cb",
   "metadata": {},
   "outputs": [],
   "source": [
    "def PIaprox(N):\n",
    "    s = 0\n",
    "    for k in range(0,N+1):\n",
    "        s = s +((2**k)*(Fact(k))**2) / Fact(2*k+1)\n",
    "    p = 2*s\n",
    "    \n",
    "    return p"
   ]
  },
  {
   "cell_type": "code",
   "execution_count": 45,
   "id": "5112f69a",
   "metadata": {},
   "outputs": [
    {
     "data": {
      "text/plain": [
       "3.1415926535897922"
      ]
     },
     "execution_count": 45,
     "metadata": {},
     "output_type": "execute_result"
    }
   ],
   "source": [
    "PIaprox(1000)\n"
   ]
  },
  {
   "cell_type": "code",
   "execution_count": 40,
   "id": "6e37a1ea",
   "metadata": {},
   "outputs": [
    {
     "data": {
      "text/plain": [
       "27"
      ]
     },
     "execution_count": 40,
     "metadata": {},
     "output_type": "execute_result"
    }
   ],
   "source": [
    "3**3\n"
   ]
  },
  {
   "cell_type": "code",
   "execution_count": 46,
   "id": "36be194d",
   "metadata": {},
   "outputs": [],
   "source": [
    "import math as mt\n"
   ]
  },
  {
   "cell_type": "code",
   "execution_count": 47,
   "id": "1ced38ac",
   "metadata": {},
   "outputs": [
    {
     "data": {
      "text/plain": [
       "3.141592653589793"
      ]
     },
     "execution_count": 47,
     "metadata": {},
     "output_type": "execute_result"
    }
   ],
   "source": [
    "mt.pi"
   ]
  },
  {
   "cell_type": "code",
   "execution_count": null,
   "id": "1f016f38",
   "metadata": {},
   "outputs": [],
   "source": []
  }
 ],
 "metadata": {
  "kernelspec": {
   "display_name": "Python 3 (ipykernel)",
   "language": "python",
   "name": "python3"
  },
  "language_info": {
   "codemirror_mode": {
    "name": "ipython",
    "version": 3
   },
   "file_extension": ".py",
   "mimetype": "text/x-python",
   "name": "python",
   "nbconvert_exporter": "python",
   "pygments_lexer": "ipython3",
   "version": "3.10.6"
  }
 },
 "nbformat": 4,
 "nbformat_minor": 5
}
